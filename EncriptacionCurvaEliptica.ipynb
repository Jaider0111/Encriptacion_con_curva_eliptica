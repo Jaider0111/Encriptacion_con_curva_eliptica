{
  "nbformat": 4,
  "nbformat_minor": 0,
  "metadata": {
    "colab": {
      "name": "EncriptacionCurvaEliptica",
      "provenance": [],
      "collapsed_sections": [],
      "include_colab_link": true
    },
    "kernelspec": {
      "name": "python3",
      "display_name": "Python 3"
    }
  },
  "cells": [
    {
      "cell_type": "markdown",
      "metadata": {
        "id": "view-in-github",
        "colab_type": "text"
      },
      "source": [
        "<a href=\"https://colab.research.google.com/github/Jaider0111/Encriptacion_con_curva_eliptica/blob/main/EncriptacionCurvaEliptica.ipynb\" target=\"_parent\"><img src=\"https://colab.research.google.com/assets/colab-badge.svg\" alt=\"Open In Colab\"/></a>"
      ]
    },
    {
      "cell_type": "markdown",
      "metadata": {
        "id": "DWayK3MsLRqK"
      },
      "source": [
        "#**Encriptacion por medio de la Curva Eliptica y algoritmo de cifrado ELGamal**\r\n",
        "---\r\n",
        "##**Integrantes**\r\n",
        "\r\n",
        "Cesar Esteban Diaz Medina\r\n",
        "\r\n",
        "Jaider Andres Pinto Pinto"
      ]
    },
    {
      "cell_type": "markdown",
      "metadata": {
        "id": "u1QPSbmzcSrW"
      },
      "source": [
        "\r\n",
        "# **Introduccion**\r\n",
        "\r\n",
        "---\r\n",
        "\r\n",
        "\r\n",
        "\r\n",
        "La criptografía con curva eliptica es aplicada por muchas empresas, un ejemplo conocido es Bitcoin, esta empresa utiliza una curva eliptica como metodo de encriptación, tambien existen muchos algoritmos de encriptacion con curva eliptica, como por ejemplo el gamal y diffie-hellman[1]. Existen muchos documentos que hablan acerca de la encriptación con curva eliptica, pero no existen muchos codigos publicos que utilicen este tipo de encriptación.\r\n",
        "\r\n",
        "Nuestro proyecto trata de implementar en python la criptografia con curva eliptica, implementando la operacion de suma y multiplicacion y aplicando el algoritmo de encriptación de ElGamal"
      ]
    },
    {
      "cell_type": "markdown",
      "metadata": {
        "id": "gyg4vJLndKTN"
      },
      "source": [
        "# **Desarrollo**\r\n",
        "\r\n",
        "---\r\n",
        "Primero tenemos que definir el siguiente concepto:\r\n",
        "\r\n",
        "\r\n",
        "# **Curva Eliptica**  \r\n",
        "\r\n",
        "Una curva elíptica E se define por una una ecuación de la forma:[1]\r\n",
        "$$E : y^2 + a^1xy + a^3y = x^3 + a^2x^2 + a^4x + a^6$$\r\n",
        "Esta ecuacion se conoce como la ecuación de Weierstrass[2]. Pero en algunos casos esta ecuacion se puede seguir reduciendo mas, y dejar una ecuacion de la siguiente forma:\r\n",
        "$$E : y^2 = x^3+Ax+B$$\r\n",
        "\r\n",
        "Es necesario que la ecuacion no tenga puntos singulares. Esto lo comprobamos mirando que el discriminante de la ecuacion sea diferente a cero. Para esto utlizamos  la siguiente formula[2]:\r\n",
        "$$0 \\neq\t 4a^3+27b^2$$\r\n",
        "\r\n",
        "Una propiedad interesante que tiene la curva eliptica, es que si usted escoge dos puntos de la curva eliptica y traza una linea entre ellos, en la mayoria de los casos esa curva va a pasar por una tercer punto[1]. \r\n",
        "\r\n",
        "Existen dos casos en los que no ocurre esto\r\n",
        "\r\n",
        "El primero es cuando las lineas son paralelas al eje y, en este caso no existe un tercer punto que cruce esta linea. En este caso el tercer punto va a ser el elemento neutro o el infinito[1]\r\n",
        "\r\n",
        "El segundo caso es cuando la linea es tangente a un punto, en este caso esa linea que es tangente a ese punto, solo va a cruzar con otro punto[1].\r\n",
        "\r\n",
        "Esta curva eliptica es simetrica con respecto al eje X,\r\n",
        "\r\n"
      ]
    },
    {
      "cell_type": "markdown",
      "metadata": {
        "id": "hiHMLxChdm-g"
      },
      "source": [
        "Sabiendo que es una curva eliptica y las propiedadades que tiene vamos a comprobar que se puede formar un grupo abeliano de la ecuacion de la curva eliptica.\r\n",
        "\r\n",
        "# **1.   Operacion Binaria**\r\n",
        "Como operacion binaria vamos a utlizar el simbolo de la suma +, esta operacion funciona utilizando la propiedad de la curva eliptica, donde para un punto Q y P, al tercer punto que cruza la linea de Q y P lo vamos a llamar R, por tal motivo se define la suma como[2]:\r\n",
        "    $$P+Q=-R$$\r\n",
        "Donde -R representa el punto simetrico de R con respecto al eje X\r\n",
        "\r\n",
        "A continuacion se presenta las ecuaciones que nos dan las coordenadas de X y de Y de R:\r\n",
        "\r\n",
        "Podemos observar anteriormente que existen dos casos en los que no sirve esta propiedad.\r\n",
        "\r\n",
        "Para el caso en el que los dos puntos son paralelos al eje Y, el resultado de la suma la vamos a asignar O que representa el infinito[1].\r\n",
        "\r\n",
        "Este O va a ser el elemento neutro, de tal manera que para cualquier punto P la sumatoria de[1]:\r\n",
        "$$P+O=P$$\r\n",
        "Para el caso en el que la recta es tangente al punto P, vamos a contar dos veces P de tal manera que[1]:\r\n",
        "$$P+P=-R$$\r\n",
        "Para hallar R en el caso uno se utilizo la siguiente formula[3]:\r\n",
        "$$ P = ( x_1,y_1) \\; ,\\; Q = ( x_2 , y_2 ) \\; , \\; -R = (x_3 , y_3) $$\r\n",
        "$$\\lambda=(y_1-y_2)/(x_1-x_2) \\; (Si \\; x_1 \\neq x_2)$$\r\n",
        "$$x_3=\\lambda^2-x_1-x_2$$ \r\n",
        "$$y_3=(x_1-x_3)*\\lambda-y_1$$\r\n",
        "Para hallar R en el caso tres es necesario solo cambiar el $\\lambda$[3]:\r\n",
        "$$\\lambda = (3*{x_1}^2+a)/(2*y_1)  \\; (Si \\; x_1 = x_2)$$\r\n",
        "\r\n"
      ]
    },
    {
      "cell_type": "markdown",
      "metadata": {
        "id": "V7k-z1oOPm0z"
      },
      "source": [
        "# **Asociatividad de la Curva Eliptica**\r\n",
        "La asociatividad puede probarse utilizando las fórmulas caso por\r\n",
        "caso, pero supone un esfuerzo demasiado laborioso.[1], Por tal motivo vamos a \r\n",
        "comprobar la asociatividad de la curva eliptica para 5 casos.\r\n",
        "\r\n",
        "\r\n",
        "*   **Cuando un elemento es igual a O o infinito**\r\n",
        "\r\n",
        "Este es el caso mas trivial de todos, debido a que como O es el elemento neutro, solo queda la sumatoria de dos puntos [4]\r\n",
        "\r\n",
        "*   **Cuando dos elementos son iguales a P=R**\r\n",
        "\r\n",
        "Este es el caso en el que dos puntos son iguales, a continuacion se presenta la comprobacion de la asociatividad:[4]\r\n",
        "$$ (P +Q) +R = R+ (P +Q) = P + (P +Q) = P + (R+Q) = P + (Q+R)$$\r\n",
        "\r\n",
        "*   **P, Q y R son colineales**\r\n",
        "\r\n",
        "Este es otro caso trivial, debido a que las rectas se comparten en las mismas sumas, por tal motivo solo vamos a estar cambiandonos de puntos.[4]\r\n",
        "\r\n",
        "*   **P+Q = O**\r\n",
        "\r\n",
        "Vamos a observar el primer caso el mas facil en el cual:\r\n",
        "  $$(P+Q)+R = O + R = R$$\r\n",
        "\r\n",
        "Para el siguiente caso, como sabemos que $P+Q = O$, entonces sabemos que $Q = -P$, esto es debido a que la recta es paralela con respecto al eje Y.\r\n",
        "\r\n",
        "Sabemos que la recta que contiene a los puntos $Q$ y $R$, va a cruzar por un tercer punto al cual vamos a llamar $-(Q+R)$. Debido a lo expuesto anteriormente la curva que pasa por $-(Q+R)$ y $P$ va a ser simetrica con la curva que pasa por $Q$ y $R$[4]. Por tal motivo la curva que pasa por $-(Q+R)$ y $P$ va a pasar tambien por el punto $-R$[4]. Por lo tanto:\r\n",
        "$$P + ( Q +R ) = R $$ \r\n",
        "\r\n",
        "\r\n"
      ]
    },
    {
      "cell_type": "markdown",
      "metadata": {
        "id": "bvoIpqPnd6lS"
      },
      "source": [
        "\r\n",
        "\r\n",
        "# **2.  Elemento Inverso de un Elemento**\r\n",
        "Podemos observar que como el elemento inverso de un punto P es igual a -P, esto es debido a que P y -P forman una recta paralela con respecto al eje Y[1]\r\n"
      ]
    },
    {
      "cell_type": "markdown",
      "metadata": {
        "id": "nSQzNhuYeXxV"
      },
      "source": [
        "A este grupo abeliano le podemos aplicar la operacion multiplicación que es realizar la suma un numero N de veces\r\n",
        "\r\n",
        "Entonces si tenemos un puntos P y un natural a, entonces la multiplicacion seria sumar a veces P[1],\r\n",
        "\r\n",
        "$$a*P = P+P+.....+P \\; \\; (Se \\;suma\\; a \\; veces \\; P ) $$\r\n",
        "\r\n",
        "Para que esta sumatoria no consumiera tanto tiempo se utilizo el metodo binario, esto descompone P en una expresion binaria, y con esta expresion binaria realiza la multiplicacion[3]\r\n",
        "\r\n",
        "Por ultimo podemos observar que la curva eliptica tiene infinitos puntos, por tal motivo se utiliza la aritmética modular, donde a cada operación y punto se le aplica el modulo de un primo p, por tal motivo para una division se tiene que hallar el inverso multiplicativo del dividendo[1]."
      ]
    },
    {
      "cell_type": "markdown",
      "metadata": {
        "id": "TtOaHKHpeg9u"
      },
      "source": [
        "Por ultimo se presenta el codigo de la Curva Eliptica y de la encriptacion de ElGamal\r\n",
        "\r\n",
        "---\r\n",
        "\r\n"
      ]
    },
    {
      "cell_type": "markdown",
      "metadata": {
        "id": "wHRaoRs1oGiY"
      },
      "source": [
        "# **ElGamal**\r\n",
        "Para realizar la criptografia de ElGamal, lo primero que tenemos que definir es los valores a y b de la curva eliptica, tambien tenemos que tener definido el primo p que vamos a utilizar para la curva.\r\n",
        "\r\n",
        "Teniendo esto valores, lo primero que vamos a realizar es escoger un punto P de la curva cuyo orden sea un primo n del tamaño de p.[3]\r\n",
        "\r\n",
        "Se va a definir como clave privada d, que es un valor en el rango de $[1,n-1]$, y la clave publica va a ser el punto Q, este punto Q esta representado por la ecuacion:[3]\r\n",
        "$$Q=d*P$$\r\n",
        "Teniendo esto ya podemos encriptar y desencriptar un mensaje $m$.\r\n",
        "\r\n",
        "\r\n",
        "# **Encriptacion de algoritmo de ElGamal**\r\n",
        "\r\n",
        "El usuario que va a recibir la informacion manda como parametros $a,b,p$ y $P$ y tambien es necesario la clave publica de dicho usuario que es $Q$.\r\n",
        "\r\n",
        "Entonces para cifrar un mensaje $m$, el mensaje tiene que estar representado en un punto $M$ de la curva eliptica[3], tambien es necesario que el usuario que esta encriptando el mensaje $m$, defina un numero $r$ que este en el rango de $[1,n-1]$, con esto vamos a nombrar dos puntos $C_1$ y $C_2$, que estan descritos por la formula:[3]\r\n",
        "$$C_1=r*P$$\r\n",
        "$$C_2=M+r*Q$$\r\n",
        "\r\n",
        "Este $C_1$ y $C_2$ es lo que le vamos a enviar a nuestro usuario:\r\n",
        "# **Desencriptacion de algoritmo de ElGamal**\r\n",
        "Para desencriptar el mensaje es necesario aplicar la siguiente formula:[3]\r\n",
        "$$M=C_2−d⋅C_1 $$\r\n",
        "Ya con esto tendremos el punto M, y ya solo nos queda hallar el mensaje $m$ a partir del punto $M$\r\n",
        "\r\n",
        "A continuacion se presenta la comprobacion de porque este algoritmo funciona:[3]\r\n",
        "$$C_2−d⋅C_1 = (M + r * Q) - ( d* r * P ) = M + (r * d * P) - (r * d * P) = M $$  "
      ]
    },
    {
      "cell_type": "markdown",
      "metadata": {
        "id": "VzyZZwhchIOQ"
      },
      "source": [
        "# **Aplicación y resultados**"
      ]
    },
    {
      "cell_type": "markdown",
      "metadata": {
        "id": "J244XN3KmAxT"
      },
      "source": [
        "En la aplicación de la teoria expuesta anteriormente, iniciamos aplicando la verificacion de la curva eliptica.\r\n",
        "\r\n",
        "Con esta funcion determinamos si la curva eliptica con ecuación $$y^2=x^3+ax+b$$ no tiene puntos singulares y con ella se puede realizar el proseso de criptografia"
      ]
    },
    {
      "cell_type": "code",
      "metadata": {
        "id": "sGPTXOwYKnrF",
        "colab": {
          "base_uri": "https://localhost:8080/"
        },
        "outputId": "3f219c76-18ac-4f23-985d-0a81ecc6358e"
      },
      "source": [
        "def prueba(a, b):\n",
        "    d1 = 4*(a**3)\n",
        "    d2 = 27*(b**2)\n",
        "    if d1 != d2:\n",
        "        return True\n",
        "    return False\n",
        "\n",
        "p = 123456789011\n",
        "Fp = lambda n: n%p\n",
        "a = Fp( 72349835377 )\n",
        "b = Fp( 102213907268 )\n",
        "print(f'El determinante de la curva eliptica es diferente de 0?\\n{prueba(a, b)}')  "
      ],
      "execution_count": null,
      "outputs": [
        {
          "output_type": "stream",
          "text": [
            "El determinante de la curva eliptica es diferente de 0?\n",
            "True\n"
          ],
          "name": "stdout"
        }
      ]
    },
    {
      "cell_type": "markdown",
      "metadata": {
        "id": "u9cA1M5QnHkL"
      },
      "source": [
        "Al saber si la curva es apta usando la funcion anterior, podemos ver si un punto (x, y) pertenece a la curva dentro del grupo discreto $\\mathbb{Z}_p$ donde $p$ es el numero primo con el que se va a trabajar "
      ]
    },
    {
      "cell_type": "code",
      "metadata": {
        "colab": {
          "base_uri": "https://localhost:8080/"
        },
        "id": "UnPayOh5nIHG",
        "outputId": "af6fea70-52ad-486d-e9c4-0a7ad3542042"
      },
      "source": [
        "def point(x, y, z):\n",
        "    global a\n",
        "    global b\n",
        "    l1 = ((x**3)%z + (a*x)%z + b)%z\n",
        "    l2 = (y**2)%z\n",
        "    if l1 == l2:\n",
        "        return (x%z, y%z)\n",
        "    return None\n",
        "P = ( 104450850632 , 89206086037)\n",
        "print(point( P[0] , P[1], p))"
      ],
      "execution_count": null,
      "outputs": [
        {
          "output_type": "stream",
          "text": [
            "(104450850632, 89206086037)\n"
          ],
          "name": "stdout"
        }
      ]
    },
    {
      "cell_type": "markdown",
      "metadata": {
        "id": "wlErcjLJpRmH"
      },
      "source": [
        "Esta funcion aplica el algoritmo de euclides y la sutitucion hacia atras, retornando los valores $a,b$ para los cuales se cumple que $1=ax+by$ pudiendo encontrar de esta manera el inverso multiplicaivo de $x\\ mod \\ y$, que en este caso seria $a$"
      ]
    },
    {
      "cell_type": "code",
      "metadata": {
        "colab": {
          "base_uri": "https://localhost:8080/"
        },
        "id": "bySKkI8apVmh",
        "outputId": "cfc24965-4e81-491c-c652-be5649c1228b"
      },
      "source": [
        "def backSus(x, y):\n",
        "    if x < y:\n",
        "        aux = x\n",
        "        x = y\n",
        "        y = aux\n",
        "    k = x//y\n",
        "    r = x%y\n",
        "    if r == 1:\n",
        "        return {x: 1, y: -k}\n",
        "    fac = backSus(y, r)\n",
        "    k = fac[y]+fac[r]*-k\n",
        "    fx = fac[r]\n",
        "    return {x: fx, y: k}\n",
        "\n",
        "print(backSus(35,9))"
      ],
      "execution_count": null,
      "outputs": [
        {
          "output_type": "stream",
          "text": [
            "{35: -1, 9: 4}\n"
          ],
          "name": "stdout"
        }
      ]
    },
    {
      "cell_type": "markdown",
      "metadata": {
        "id": "Lmd-9o9eqNkx"
      },
      "source": [
        "Esta funcion calcula la operacion binaria $+$ que se definio para las curvas elipticas, dentro del grupo discreto $\\mathbb{Z}_p$"
      ]
    },
    {
      "cell_type": "code",
      "metadata": {
        "id": "kpMMiFuGqOEp",
        "colab": {
          "base_uri": "https://localhost:8080/"
        },
        "outputId": "152026f3-06c3-4378-a935-d30c549e80e7"
      },
      "source": [
        "def suma(P, Q, p):\n",
        "    l = 0\n",
        "    if P[0] == 'INF':\n",
        "        return Q\n",
        "    elif Q[0] == 'INF':\n",
        "        return P\n",
        "    elif P[1] != Q[1] and P[0] == Q[0]:\n",
        "        return ('INF', 'INF')\n",
        "    if P != Q:\n",
        "        l = (P[1]-Q[1])%p\n",
        "        aux = (P[0]-Q[0])%p\n",
        "        cd = backSus(p, aux)\n",
        "        l = (l * cd[aux])%p\n",
        "    else:\n",
        "        l = ((3*(P[0]**2)%p)%p + a)%p\n",
        "        aux = (2*P[1])%p\n",
        "        l = (backSus(p, aux)[aux]*l)%p\n",
        "    x = ((l**2)%p-P[0]-Q[0])%p\n",
        "    y = ((((P[0]-x)*l)%p)-P[1])%p\n",
        "    return (x,y)\n",
        "print(suma(P,P,p))"
      ],
      "execution_count": null,
      "outputs": [
        {
          "output_type": "stream",
          "text": [
            "(86513318918, 122589533005)\n"
          ],
          "name": "stdout"
        }
      ]
    },
    {
      "cell_type": "markdown",
      "metadata": {
        "id": "FcWjmTDAq5g7"
      },
      "source": [
        "Esta funcion realiza la operacion multiplicacion, definida como la suma sucesiva de un punto $$a\\cdot P = P+..+P\\qquad a \\ veces$$ \n",
        "donde $a\\in \\mathbb{N}$"
      ]
    },
    {
      "cell_type": "code",
      "metadata": {
        "id": "jLSsBeZkq5G7",
        "colab": {
          "base_uri": "https://localhost:8080/"
        },
        "outputId": "40615100-bcbc-4bd6-ea25-4bf91cb180fc"
      },
      "source": [
        "def mult(P, n, p, Q):\n",
        "    num = suma(Q, Q, p)\n",
        "    if n[0] == '1':\n",
        "        num = suma(num, P, p)\n",
        "    if len(n) == 1:\n",
        "        return num\n",
        "    return mult(P, n[1:], p, num)\n",
        "\n",
        "print(mult(P,bin(987654321)[3:],p,P))"
      ],
      "execution_count": null,
      "outputs": [
        {
          "output_type": "stream",
          "text": [
            "(30120653491, 86070984333)\n"
          ],
          "name": "stdout"
        }
      ]
    },
    {
      "cell_type": "markdown",
      "metadata": {
        "id": "ao7CHkEvIxdd"
      },
      "source": [
        "Para hallar un punto de la curva a partir del valor de $x$ se debe solucionar la ecuación $$y=\\sqrt{x^3+ax+b}$$ Esta operacion en un cuerpo finito de tamaño $p$ es muy dificil de hallar, por lo tanto para esto haremos uso de un software externo y tendremos el resultado.\r\n",
        "\r\n",
        "De esta manera se obtendra el valor de punto\r\n",
        "$$P=(x,y)$$ "
      ]
    },
    {
      "cell_type": "markdown",
      "metadata": {
        "id": "BOaygtvFYkyq"
      },
      "source": [
        "Para hacer mas facil el uso la encriptacion del mensaje se creara una clase llamada curvaEliptica que tendra como metodos las operaciones que se realizaran en la curva eliptica y fueron descritas anteriormente, ademas agregaremos una funcion que determina si un numero es primo o no."
      ]
    },
    {
      "cell_type": "code",
      "metadata": {
        "id": "l6-Hv2QOZI3K"
      },
      "source": [
        "class curvaEliptica:\r\n",
        "    def __init__(self, a, b, p):\r\n",
        "        self.a = a\r\n",
        "        self.b = b\r\n",
        "        self.p = p\r\n",
        "        self.prueba()\r\n",
        "    \r\n",
        "    def prueba(self):\r\n",
        "        d1 = 4*(self.a**3)\r\n",
        "        d2 = 27*(self.b**2)\r\n",
        "        if d1 != d2:\r\n",
        "            self.isC = True\r\n",
        "        else:\r\n",
        "            self.isC = False\r\n",
        "\r\n",
        "    def isCurve(self):\r\n",
        "        return self.isC\r\n",
        "\r\n",
        "    def point(self, x, y):\r\n",
        "        z = self.p\r\n",
        "        l1 = ((x**3)%z + (self.a*x)%z + self.b)%z\r\n",
        "        l2 = (y**2)%z\r\n",
        "        if l1 == l2:\r\n",
        "            return (x%z, y%z)\r\n",
        "        return None\r\n",
        "\r\n",
        "    def pointX(self, x):\r\n",
        "        p = self.p\r\n",
        "        l1 = (x**3) + (self.a*x) + self.b\r\n",
        "        while l1 >= 0:\r\n",
        "            y = int((l1)**(1/2))\r\n",
        "            if y**2 == l1:\r\n",
        "                return (x%p, y%p)\r\n",
        "            l1 -= p\r\n",
        "        return None\r\n",
        "\r\n",
        "    def searchInv(self, x, p = None):\r\n",
        "        p = p if p != None else self.p \r\n",
        "        if x > p:\r\n",
        "            x %= p\r\n",
        "        k = p//x\r\n",
        "        r = p%x\r\n",
        "        if r == 1:\r\n",
        "            return {p: 1, x: -k}\r\n",
        "        fac = self.searchInv(r, p=x)\r\n",
        "        k = fac[x]+fac[r]*-k\r\n",
        "        fp = fac[r]\r\n",
        "        if p == self.p:\r\n",
        "            return k\r\n",
        "        return {p: fp, x: k}\r\n",
        "    \r\n",
        "    def suma(self, P, Q):\r\n",
        "        p = self.p\r\n",
        "        l = 0\r\n",
        "        if P[0] == 'INF':\r\n",
        "            return Q\r\n",
        "        elif Q[0] == 'INF':\r\n",
        "            return P\r\n",
        "        elif P[1] != Q[1] and P[0] == Q[0]:\r\n",
        "            return ('INF', 'INF')\r\n",
        "        elif P != Q:\r\n",
        "            l = (P[1]-Q[1])%p\r\n",
        "            aux = (P[0]-Q[0])%p\r\n",
        "            cd = self.searchInv(aux)\r\n",
        "            l = (l * cd)%p\r\n",
        "        else:\r\n",
        "            l = ((3*(P[0]**2)%p)%p + self.a)%p\r\n",
        "            aux = (2*P[1])%p\r\n",
        "            l = (self.searchInv(aux)*l)%p\r\n",
        "        x = ((l**2)%p-P[0]-Q[0])%p\r\n",
        "        y = ((((P[0]-x)*l)%p)-P[1])%p\r\n",
        "        return (x,y)\r\n",
        "\r\n",
        "    def mult(self, P, n, Q):\r\n",
        "        p = self.p\r\n",
        "        num = self.suma(Q, Q)\r\n",
        "        if n[0] == '1':\r\n",
        "            num = self.suma(num, P)\r\n",
        "        if len(n) == 1:\r\n",
        "            return num\r\n",
        "        return self.mult(P, n[1:], num)\r\n",
        "\r\n",
        "\r\n",
        "def isPrime(n):\r\n",
        "    if n <= 1:\r\n",
        "        return False\r\n",
        "    for i in range(2, int(n**(1/2))+1):\r\n",
        "        if n%i == 0:\r\n",
        "            return False\r\n",
        "    return True"
      ],
      "execution_count": null,
      "outputs": []
    },
    {
      "cell_type": "markdown",
      "metadata": {
        "id": "7l1EvtIUZaH1"
      },
      "source": [
        "Teniendo esta clase se inicia con el proceso de cifrado. Para realizar el cifrado utilizando ElGramal, primero vamos a seleccioner un numero primo sobre el cual se trabajara la curva eliptica. Este primo va a ser $$123456789011$$"
      ]
    },
    {
      "cell_type": "code",
      "metadata": {
        "colab": {
          "base_uri": "https://localhost:8080/"
        },
        "id": "21fuRRlsZKpr",
        "outputId": "35e05e78-4c5b-446e-c2b1-36a5bec9b244"
      },
      "source": [
        "p = 123456789011\r\n",
        "print(f'El primo seleccionado es: {p}')"
      ],
      "execution_count": null,
      "outputs": [
        {
          "output_type": "stream",
          "text": [
            "El primo seleccionado es: 123456789011\n"
          ],
          "name": "stdout"
        }
      ]
    },
    {
      "cell_type": "markdown",
      "metadata": {
        "id": "p5sZlVi9Zz1y"
      },
      "source": [
        "Luego creamos una funcion que definira un cuerpo en p, esta se encargara de realizar modulo p a los numeros que se necesite "
      ]
    },
    {
      "cell_type": "code",
      "metadata": {
        "colab": {
          "base_uri": "https://localhost:8080/"
        },
        "id": "g4sSmCpUZzar",
        "outputId": "360aac8a-4cec-4f42-d1df-ce0fc363140c"
      },
      "source": [
        "Fp = lambda n: n%p\r\n",
        "print(Fp(546205312032123))"
      ],
      "execution_count": null,
      "outputs": [
        {
          "output_type": "stream",
          "text": [
            "32477447459\n"
          ],
          "name": "stdout"
        }
      ]
    },
    {
      "cell_type": "markdown",
      "metadata": {
        "id": "7yRw7wKif5ej"
      },
      "source": [
        "Luego, se seleccionan 2 enteros arbitrarios, estos representaran los valores de $a$ y $b$ en la ecuación $$y^2=x^3+ax+b$$ Tambien se debera verificar que tanto $a$ como $b$ esten dentro del campo finito $\\mathbb{Z}_p$, para esto se utilizara la funcion $Fp$"
      ]
    },
    {
      "cell_type": "code",
      "metadata": {
        "colab": {
          "base_uri": "https://localhost:8080/"
        },
        "id": "ryAzHv2Pgkr4",
        "outputId": "44937afd-7209-4882-925b-aae35eebb597"
      },
      "source": [
        "a = Fp(72349835377)\r\n",
        "b = Fp(102213907268)\r\n",
        "print(f'Los valores son:\\na: {a}\\nb: {b}')"
      ],
      "execution_count": null,
      "outputs": [
        {
          "output_type": "stream",
          "text": [
            "Los valores son:\n",
            "a: 72349835377\n",
            "b: 102213907268\n"
          ],
          "name": "stdout"
        }
      ]
    },
    {
      "cell_type": "markdown",
      "metadata": {
        "id": "FLb4iGhfg3_W"
      },
      "source": [
        "Ahora crearemos la curva eliptica haciendo uso de la clase curvaEliptica, ademas, se comprobara si esta curva eliptica corresponde no posee determinante 0, lo que nos permitira usarla para la encriptación ElGamal."
      ]
    },
    {
      "cell_type": "code",
      "metadata": {
        "colab": {
          "base_uri": "https://localhost:8080/"
        },
        "id": "h1oBvsJXhYeX",
        "outputId": "373a32f1-0a77-4742-b1b2-da41210b1a63"
      },
      "source": [
        "Ec = curvaEliptica(a, b, p)\r\n",
        "print(f'¿La curva tiene determinante 0?\\n{Ec.isCurve()}')"
      ],
      "execution_count": null,
      "outputs": [
        {
          "output_type": "stream",
          "text": [
            "¿La curva tiene determinante 0?\n",
            "True\n"
          ],
          "name": "stdout"
        }
      ]
    },
    {
      "cell_type": "markdown",
      "metadata": {
        "id": "DIgbtSTUh5zr"
      },
      "source": [
        "Luego, seleccionaremos un punto $P$, que se encuentre dentro de la curva y ademas corresponda al campo finito $\\mathbb{Z}_p$. Para esto seleccionaremos un $x$ valido y apartir de este hallaremos el valor de $y$. Como ya se aclaro anteriormente, hallar $y$ a partir de $x$ como: $$y=\\sqrt{x^3+ax+b}$$ dentro del campo finito $\\mathbb{Z}_p$, es bastante complejo, se hara uso de $sage$ un software matematico que permite hallar estos valores de una manera bastante rapida.\r\n",
        "\r\n",
        "El valor de $x$ seleccionado es $1894912546$  y el punto obtenido es: $$P=(1894912546,77253588209)$$ \r\n",
        "![image.png](data:image/png;base64,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)\r\n",
        "\r\n",
        "Luego comprobaremos que este punto pertenece a la curva eliptica, para esto usamos la funcion $point$, la cual nos retorna el punto si los valores pertenecen a la curva o None en caso contrario."
      ]
    },
    {
      "cell_type": "code",
      "metadata": {
        "id": "dAfjA2DCh5gM",
        "colab": {
          "base_uri": "https://localhost:8080/"
        },
        "outputId": "c18e42f2-687d-45ce-b1b4-769a83f7521a"
      },
      "source": [
        "P = Ec.point(1894912546,77253588209)\r\n",
        "print(f'P: {P}')"
      ],
      "execution_count": null,
      "outputs": [
        {
          "output_type": "stream",
          "text": [
            "P: (1894912546, 77253588209)\n"
          ],
          "name": "stdout"
        }
      ]
    },
    {
      "cell_type": "markdown",
      "metadata": {
        "id": "BSdd_oni6CvD"
      },
      "source": [
        "Ahora debemos encontrar el orden aditivo de el punto hallado, para esto tambien se hara uso de sage y luego lo comprobaremos con la operacion mult, si ord es el orden aditivo de P, entonces $ord*P = INF$, es decir el punto en el infinito.\r\n",
        "El orden obtenido es $$ord = 123456319379$$ \r\n",
        "![image.png](data:image/png;base64,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)\r\n"
      ]
    },
    {
      "cell_type": "code",
      "metadata": {
        "colab": {
          "base_uri": "https://localhost:8080/"
        },
        "id": "sEovVmqbCAI0",
        "outputId": "806156bd-8f30-43ad-c0ab-94b6a93741d1"
      },
      "source": [
        "orden = 123456319379\r\n",
        "print(Ec.mult(P, bin(orden)[3:], P))"
      ],
      "execution_count": null,
      "outputs": [
        {
          "output_type": "stream",
          "text": [
            "('INF', 'INF')\n"
          ],
          "name": "stdout"
        }
      ]
    },
    {
      "cell_type": "markdown",
      "metadata": {
        "id": "udiDcjhgIKec"
      },
      "source": [
        "Tambien se debe verificar que el orden obtenido sea primo."
      ]
    },
    {
      "cell_type": "code",
      "metadata": {
        "colab": {
          "base_uri": "https://localhost:8080/"
        },
        "id": "vFi0txY2IJm-",
        "outputId": "858d2585-5bed-42b7-fe48-46ff65454d56"
      },
      "source": [
        "print(isPrime(orden))"
      ],
      "execution_count": null,
      "outputs": [
        {
          "output_type": "stream",
          "text": [
            "True\n"
          ],
          "name": "stdout"
        }
      ]
    },
    {
      "cell_type": "markdown",
      "metadata": {
        "id": "jLV_CP68JgkS"
      },
      "source": [
        "Ahora se selecciona una clave privada $d$, la cual debe ser menor al orden, en este caso usaremos $$d=245378781$$"
      ]
    },
    {
      "cell_type": "code",
      "metadata": {
        "colab": {
          "base_uri": "https://localhost:8080/"
        },
        "id": "MiqvcsxlKKGJ",
        "outputId": "36145fef-968b-4abe-eecf-c784aa62124d"
      },
      "source": [
        "d=245378781\r\n",
        "print(d)"
      ],
      "execution_count": null,
      "outputs": [
        {
          "output_type": "stream",
          "text": [
            "245378781\n"
          ],
          "name": "stdout"
        }
      ]
    },
    {
      "cell_type": "markdown",
      "metadata": {
        "id": "JVFFukn5QCuW"
      },
      "source": [
        "Luego usando la clave privada $d$, hallamos la clave publica como $$Q = d*P$$"
      ]
    },
    {
      "cell_type": "code",
      "metadata": {
        "colab": {
          "base_uri": "https://localhost:8080/"
        },
        "id": "-Ez6cOpGQRM2",
        "outputId": "a177d2be-9847-4a19-c5b7-c99688563eee"
      },
      "source": [
        "Q = Ec.mult(P, bin(d)[3:], P)\r\n",
        "print(Q)"
      ],
      "execution_count": null,
      "outputs": [
        {
          "output_type": "stream",
          "text": [
            "(83321823779, 50491110021)\n"
          ],
          "name": "stdout"
        }
      ]
    },
    {
      "cell_type": "markdown",
      "metadata": {
        "id": "fczRP-5QKvVX"
      },
      "source": [
        "Ahora, para poder encriptar un mensaje debemos tener una representacion numerica de este, ademas este numero debe ser menor a $p$ y permitir la creacion de un punto en la curva eliptica. Para obtener el valor numerico de un mensaje usaremos la siguiente funcion y el mensaje que se desea encriptar es $MATH$"
      ]
    },
    {
      "cell_type": "code",
      "metadata": {
        "colab": {
          "base_uri": "https://localhost:8080/"
        },
        "id": "zamWr5C3LNtZ",
        "outputId": "5d452cd0-8a59-446f-ad8d-3e1c778cae9a"
      },
      "source": [
        "def valor(s):\r\n",
        "    ans = ''\r\n",
        "    for i in s:\r\n",
        "        x = ord(i)-ord('A')+1\r\n",
        "        if x < 10:\r\n",
        "            ans += '0'\r\n",
        "        ans += str(x)\r\n",
        "    return int(ans)\r\n",
        "\r\n",
        "m = valor('MATH')\r\n",
        "print(f'm: {m}')"
      ],
      "execution_count": null,
      "outputs": [
        {
          "output_type": "stream",
          "text": [
            "m: 13012008\n"
          ],
          "name": "stdout"
        }
      ]
    },
    {
      "cell_type": "markdown",
      "metadata": {
        "id": "YOZPUbkjMwZb"
      },
      "source": [
        "Con el valor numerico del mensaje debemos obtener el punto que representa este mensaje en la curva eliptica, donde debemos hallar el valor de $y$ a partir de $x$, donde $x$ es el valor numerico del mensaje, como ya se comento anteriormente esto es bastante complicado, por lo tanto usaremos $sage$ nuevamente. \r\n",
        "\r\n",
        "![image.png](data:image/png;base64,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)\r\n",
        "\r\n",
        "Gracias a sage obtenemos que el punto que representa al mensaje es $$M=(13012008, 84500726736)$$\r\n",
        "\r\n",
        "De manera adicional comprobaremos que estos valores si pertenecen a la curva eliptica por medio de la funcion $point$"
      ]
    },
    {
      "cell_type": "code",
      "metadata": {
        "colab": {
          "base_uri": "https://localhost:8080/"
        },
        "id": "u2_4x2usOWWD",
        "outputId": "1a6f380f-8808-483a-f2be-5ea20c6b73d2"
      },
      "source": [
        "M = Ec.point(13012008, 84500726736)\r\n",
        "print(f'El punto que representa el mensaje es:\\nM: {M}')"
      ],
      "execution_count": null,
      "outputs": [
        {
          "output_type": "stream",
          "text": [
            "El punto que representa el mensaje es:\n",
            "M: (13012008, 84500726736)\n"
          ],
          "name": "stdout"
        }
      ]
    },
    {
      "cell_type": "markdown",
      "metadata": {
        "id": "iYCaIWX7PH6v"
      },
      "source": [
        "Con todo lo anterior tenemos todo preparado para realizar la encriptacion del mensage utilizando el algoritmo ElGamal, para esto, se usa un funcion que recibe el Punto que representa el mensaje(M), el orden del punto P(n), el punto P(P), la llave publica(Q) y la curva eliptica a usar(Ec)"
      ]
    },
    {
      "cell_type": "code",
      "metadata": {
        "id": "RiLH7o9oPHks",
        "colab": {
          "base_uri": "https://localhost:8080/"
        },
        "outputId": "f1308819-02cd-4ceb-ad32-632da4ac37ed"
      },
      "source": [
        "from random import randint\r\n",
        "def ElGamal(M, n, P, Q, Ec):\r\n",
        "    r = randint(1, n)\r\n",
        "    l = bin(r)[3:]\r\n",
        "    C1 = Ec.mult(P, l, P)\r\n",
        "    C2 = Ec.suma(M, Ec.mult(Q, l, Q))\r\n",
        "    return [C1, C2]\r\n",
        "\r\n",
        "enciptado = ElGamal(M, orden, P, Q, Ec)\r\n",
        "print(f'El mensaje encriptado es:\\n{enciptado}')\r\n"
      ],
      "execution_count": null,
      "outputs": [
        {
          "output_type": "stream",
          "text": [
            "El mensaje encriptado es:\n",
            "[(90076725084, 33877601342), (52903871051, 37831277157)]\n"
          ],
          "name": "stdout"
        }
      ]
    },
    {
      "cell_type": "markdown",
      "metadata": {
        "id": "z9x_HrKvTZvq"
      },
      "source": [
        "Para realizar el desencriptado se utilizara la siguiente funcion, la cual recibe el mensaje cifrado(Mc), la curva eliptica(Ec) y la llave privada(d)"
      ]
    },
    {
      "cell_type": "code",
      "metadata": {
        "colab": {
          "base_uri": "https://localhost:8080/"
        },
        "id": "lShexXY3TvaK",
        "outputId": "2272ada7-924e-45cf-c225-d84f029b8000"
      },
      "source": [
        "def desElGamal(Mc, Ec, d):\r\n",
        "    d1 = bin(d)[3:]\r\n",
        "    p1 = Ec.mult(Mc[0], d1, Mc[0])\r\n",
        "    invp1 = (p1[0], -(p1[1]))\r\n",
        "    M = Ec.suma(Mc[1], invp1)\r\n",
        "    return M[0]\r\n",
        "\r\n",
        "desencriptado = desElGamal(enciptado, Ec, d)\r\n",
        "print(f'el valor numerico del mensaje desencriptado es:\\n{desencriptado}')"
      ],
      "execution_count": null,
      "outputs": [
        {
          "output_type": "stream",
          "text": [
            "el valor numerico del mensaje desencriptado es:\n",
            "13012008\n"
          ],
          "name": "stdout"
        }
      ]
    },
    {
      "cell_type": "markdown",
      "metadata": {
        "id": "IODoN6j0U1zK"
      },
      "source": [
        "Para obtener el texto del mensaje inicial utilizamos la siguente funcion"
      ]
    },
    {
      "cell_type": "code",
      "metadata": {
        "colab": {
          "base_uri": "https://localhost:8080/"
        },
        "id": "1Zq-FSQQU012",
        "outputId": "437d03d5-f8f0-4b5a-bbaa-d701c54fe086"
      },
      "source": [
        "def texto(num):\r\n",
        "    num = str(num)\r\n",
        "    ans = ''\r\n",
        "    for i in range(0,len(num), 2):\r\n",
        "        ans += chr(int(num[i]+num[i+1])+ord('A')-1)\r\n",
        "    return ans\r\n",
        "\r\n",
        "final = texto(desencriptado)\r\n",
        "print(f'El mensaje recibido fue:\\n{final}')"
      ],
      "execution_count": null,
      "outputs": [
        {
          "output_type": "stream",
          "text": [
            "El mensaje recibido fue:\n",
            "MATH\n"
          ],
          "name": "stdout"
        }
      ]
    },
    {
      "cell_type": "markdown",
      "metadata": {
        "id": "NJd0oMJOWPgx"
      },
      "source": [
        "Como se puede ver el resultado obtenido es el mismo mensaje que se encripto. Y de esta manera hemos implementado el encriptado ElGamal."
      ]
    },
    {
      "cell_type": "markdown",
      "metadata": {
        "id": "g1G2IfpGDalL"
      },
      "source": [
        "# **Conclusiones**\r\n",
        "\r\n",
        "---\r\n",
        "\r\n",
        "Podemos concluir que la curva eliptica tiene grandes aplicaciones en el ambito de la criptografia. Como por ejemplo el cifrado de ElGamal. Pudimos observar que el cifrado es facil de implementar, a excepcion de calcular la raiz de un entero modulo p. Tambien pudimos comprobar que la curva eliptica es un grupo abeliano, aunque en el caso la comprobacion de la asociatividad de la suma en la curva eliptica se dejaron algunos casos por comprobar. Por ultimo, para el futuro nos queda implementar mas cifrados que apliquen las curvas elipticas, como por ejemplo el Diffie-Hellman. Tambien nos queda terminar de comprobar la asociatividad de la curva eliptica, y poder calcular la raiz de un entero modulo p.\r\n"
      ]
    },
    {
      "cell_type": "markdown",
      "metadata": {
        "id": "IIbW3_6DGaM6"
      },
      "source": [
        "# **Bibliografia**\r\n",
        "\r\n",
        "---\r\n",
        "\r\n",
        "\r\n",
        "[1] \tA. H. R. Robles, «Curvas Elipticas en Criptografia,» Julio 2016. [En línea]. Available: https://www.ugr.es/~anillos/textos/pdf/2016/CurvasElipticas.pdf. [Último acceso: 7 Diciembre 2020].\r\n",
        "\r\n",
        "[2] \tL. H. Llorenç, J. R. Coma y J. G. T. Ayuso, «Criptografia con Curvas Elipticas,» [En línea]. Available:\r\n",
        "\r\n",
        "https://www.exabyteinformatica.com/uoc/Informatica/Criptografia_avanzada/Criptografia_avanzada_(Modulo_4).pdf. [Último acceso: 7 Diciembre 2020].\r\n",
        "\r\n",
        "[3] \tU. P. d. Madrid, «Criptografia con Curvas Elipticas,» [En línea]. Available: http://www.criptored.upm.es/crypt4you/temas/ECC/leccion1/leccion1.html#SAGE. [Último acceso: 7 Diciembre 2020]\r\n",
        "\r\n",
        "[4] S. N. M. Garcıa, «Curvas Elipticas,» 22 Junio 2015. [En línea]. Available: https://www.um.es/documents/118351/1884002/TFG_MATHEU+GARCIA.pdf/0f3f6eb9-5ef7-4483-b41f-525bf7ef1160. [Último acceso: 11 Diciembre 2020]"
      ]
    }
  ]
}